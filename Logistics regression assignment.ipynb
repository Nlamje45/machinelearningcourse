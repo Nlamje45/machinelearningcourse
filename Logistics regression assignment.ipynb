{
 "cells": [
  {
   "cell_type": "code",
   "execution_count": 10,
   "metadata": {
    "scrolled": true
   },
   "outputs": [
    {
     "name": "stdout",
     "output_type": "stream",
     "text": [
      "     Unnamed: 0  affairs  gender   age  yearsmarried children  religiousness  \\\n",
      "0             4        0    male  37.0         10.00       no              3   \n",
      "1             5        0  female  27.0          4.00       no              4   \n",
      "2            11        0  female  32.0         15.00      yes              1   \n",
      "3            16        0    male  57.0         15.00      yes              5   \n",
      "4            23        0    male  22.0          0.75       no              2   \n",
      "5            29        0  female  32.0          1.50       no              2   \n",
      "6            44        0  female  22.0          0.75       no              2   \n",
      "7            45        0    male  57.0         15.00      yes              2   \n",
      "8            47        0  female  32.0         15.00      yes              4   \n",
      "9            49        0    male  22.0          1.50       no              4   \n",
      "10           50        0    male  37.0         15.00      yes              2   \n",
      "11           55        0    male  27.0          4.00      yes              4   \n",
      "12           64        0    male  47.0         15.00      yes              5   \n",
      "13           80        0  female  22.0          1.50       no              2   \n",
      "14           86        0  female  27.0          4.00       no              4   \n",
      "15           93        0  female  37.0         15.00      yes              1   \n",
      "16          108        0  female  37.0         15.00      yes              2   \n",
      "17          114        0  female  22.0          0.75       no              3   \n",
      "18          115        0  female  22.0          1.50       no              2   \n",
      "19          116        0  female  27.0         10.00      yes              2   \n",
      "20          123        0  female  22.0          1.50       no              2   \n",
      "21          127        0  female  22.0          1.50       no              2   \n",
      "22          129        0  female  27.0         10.00      yes              4   \n",
      "23          134        0  female  32.0         10.00      yes              3   \n",
      "24          137        0    male  37.0          4.00      yes              2   \n",
      "25          139        0  female  22.0          1.50       no              2   \n",
      "26          147        0  female  27.0          7.00       no              4   \n",
      "27          151        0    male  42.0         15.00      yes              5   \n",
      "28          153        0    male  27.0          4.00      yes              3   \n",
      "29          155        0  female  27.0          4.00      yes              3   \n",
      "..          ...      ...     ...   ...           ...      ...            ...   \n",
      "571        1674       12  female  17.5          0.75      yes              2   \n",
      "572        1682        7  female  32.0         15.00      yes              5   \n",
      "573        1685        7  female  22.0          4.00       no              1   \n",
      "574        1697        2    male  32.0          4.00      yes              4   \n",
      "575        1716        1  female  22.0          1.50      yes              3   \n",
      "576        1730        3  female  42.0         15.00      yes              2   \n",
      "577        1731        1    male  32.0          7.00      yes              4   \n",
      "578        1732       12    male  37.0         15.00       no              3   \n",
      "579        1743        1    male  42.0         15.00      yes              3   \n",
      "580        1751        1    male  27.0          4.00      yes              1   \n",
      "581        1757        2    male  37.0         15.00      yes              4   \n",
      "582        1763        7    male  37.0         15.00      yes              3   \n",
      "583        1766        3    male  22.0          1.50       no              2   \n",
      "584        1772        3    male  32.0          4.00      yes              3   \n",
      "585        1776        2    male  32.0         15.00      yes              5   \n",
      "586        1782       12  female  52.0         15.00      yes              1   \n",
      "587        1784       12    male  47.0         15.00       no              1   \n",
      "588        1791        3  female  32.0         15.00      yes              4   \n",
      "589        1831        7  female  32.0         15.00      yes              3   \n",
      "590        1840        7  female  27.0          7.00      yes              4   \n",
      "591        1844       12    male  42.0         15.00      yes              3   \n",
      "592        1856        7  female  42.0         15.00      yes              2   \n",
      "593        1876       12    male  27.0          7.00      yes              2   \n",
      "594        1929        3    male  32.0         10.00      yes              4   \n",
      "595        1935        7    male  47.0         15.00      yes              3   \n",
      "596        1938        1    male  22.0          1.50      yes              1   \n",
      "597        1941        7  female  32.0         10.00      yes              2   \n",
      "598        1954        2    male  32.0         10.00      yes              2   \n",
      "599        1959        2    male  22.0          7.00      yes              3   \n",
      "600        9010        1  female  32.0         15.00      yes              3   \n",
      "\n",
      "     education  occupation  rating  \n",
      "0           18           7       4  \n",
      "1           14           6       4  \n",
      "2           12           1       4  \n",
      "3           18           6       5  \n",
      "4           17           6       3  \n",
      "5           17           5       5  \n",
      "6           12           1       3  \n",
      "7           14           4       4  \n",
      "8           16           1       2  \n",
      "9           14           4       5  \n",
      "10          20           7       2  \n",
      "11          18           6       4  \n",
      "12          17           6       4  \n",
      "13          17           5       4  \n",
      "14          14           5       4  \n",
      "15          17           5       5  \n",
      "16          18           4       3  \n",
      "17          16           5       4  \n",
      "18          16           5       5  \n",
      "19          14           1       5  \n",
      "20          16           5       5  \n",
      "21          16           5       5  \n",
      "22          16           5       4  \n",
      "23          14           1       5  \n",
      "24          20           6       4  \n",
      "25          18           5       5  \n",
      "26          16           1       5  \n",
      "27          20           6       4  \n",
      "28          16           5       5  \n",
      "29          17           5       4  \n",
      "..         ...         ...     ...  \n",
      "571         12           3       5  \n",
      "572         18           5       4  \n",
      "573         16           3       5  \n",
      "574         18           6       4  \n",
      "575         18           5       2  \n",
      "576         17           5       4  \n",
      "577         16           4       4  \n",
      "578         14           6       2  \n",
      "579         16           6       3  \n",
      "580         18           5       4  \n",
      "581         20           7       3  \n",
      "582         20           6       4  \n",
      "583         12           3       3  \n",
      "584         20           6       2  \n",
      "585         20           6       5  \n",
      "586         18           5       5  \n",
      "587         18           6       5  \n",
      "588         16           4       4  \n",
      "589         14           3       2  \n",
      "590         16           1       2  \n",
      "591         18           6       2  \n",
      "592         14           3       2  \n",
      "593         17           5       4  \n",
      "594         14           4       3  \n",
      "595         16           4       2  \n",
      "596         12           2       5  \n",
      "597         18           5       4  \n",
      "598         17           6       5  \n",
      "599         18           6       2  \n",
      "600         14           1       5  \n",
      "\n",
      "[601 rows x 10 columns]\n"
     ]
    }
   ],
   "source": [
    "import numpy as np\n",
    "import pandas as pd\n",
    "data=pd.read_csv(r\"C:\\Users\\ADMIN\\Downloads\\Affairs.csv\")\n",
    "print(data)\n"
   ]
  },
  {
   "cell_type": "code",
   "execution_count": 11,
   "metadata": {},
   "outputs": [
    {
     "data": {
      "text/plain": [
       "Index(['Unnamed: 0', 'affairs', 'gender', 'age', 'yearsmarried', 'children',\n",
       "       'religiousness', 'education', 'occupation', 'rating'],\n",
       "      dtype='object')"
      ]
     },
     "execution_count": 11,
     "metadata": {},
     "output_type": "execute_result"
    }
   ],
   "source": [
    "data.columns"
   ]
  },
  {
   "cell_type": "code",
   "execution_count": 13,
   "metadata": {},
   "outputs": [
    {
     "name": "stdout",
     "output_type": "stream",
     "text": [
      "<class 'pandas.core.frame.DataFrame'>\n",
      "RangeIndex: 601 entries, 0 to 600\n",
      "Data columns (total 10 columns):\n",
      "Unnamed: 0       601 non-null int64\n",
      "affairs          601 non-null int64\n",
      "gender           601 non-null object\n",
      "age              601 non-null float64\n",
      "yearsmarried     601 non-null float64\n",
      "children         601 non-null object\n",
      "religiousness    601 non-null int64\n",
      "education        601 non-null int64\n",
      "occupation       601 non-null int64\n",
      "rating           601 non-null int64\n",
      "dtypes: float64(2), int64(6), object(2)\n",
      "memory usage: 47.0+ KB\n"
     ]
    }
   ],
   "source": [
    "data.info()"
   ]
  },
  {
   "cell_type": "code",
   "execution_count": 14,
   "metadata": {},
   "outputs": [],
   "source": [
    "x=data[['gender', 'age', 'yearsmarried', 'children',\n",
    "       'religiousness', 'education', 'occupation']]\n",
    "y=data['affairs']"
   ]
  },
  {
   "cell_type": "code",
   "execution_count": 15,
   "metadata": {},
   "outputs": [],
   "source": [
    "x=pd.get_dummies(x,drop_first=True)"
   ]
  },
  {
   "cell_type": "code",
   "execution_count": 18,
   "metadata": {},
   "outputs": [
    {
     "name": "stderr",
     "output_type": "stream",
     "text": [
      "D:\\anaconda\\lib\\site-packages\\sklearn\\cross_validation.py:41: DeprecationWarning: This module was deprecated in version 0.18 in favor of the model_selection module into which all the refactored classes and functions are moved. Also note that the interface of the new CV iterators are different from that of this module. This module will be removed in 0.20.\n",
      "  \"This module will be removed in 0.20.\", DeprecationWarning)\n"
     ]
    }
   ],
   "source": [
    "from sklearn.linear_model import LogisticRegression\n",
    "from sklearn.cross_validation import train_test_split "
   ]
  },
  {
   "cell_type": "code",
   "execution_count": 19,
   "metadata": {},
   "outputs": [],
   "source": [
    "xtrain,xtest,ytrain,ytest=train_test_split(x,y)"
   ]
  },
  {
   "cell_type": "code",
   "execution_count": 20,
   "metadata": {},
   "outputs": [],
   "source": [
    "m1=LogisticRegression()\n",
    "m1.fit(xtrain,ytrain)\n",
    "p=m1.predict(xtest)"
   ]
  },
  {
   "cell_type": "code",
   "execution_count": 22,
   "metadata": {},
   "outputs": [
    {
     "name": "stdout",
     "output_type": "stream",
     "text": [
      "0.7350993377483444\n"
     ]
    }
   ],
   "source": [
    "from sklearn.metrics import accuracy_score\n",
    "l=accuracy_score(p,ytest)\n",
    "print(l)"
   ]
  },
  {
   "cell_type": "code",
   "execution_count": null,
   "metadata": {},
   "outputs": [],
   "source": []
  }
 ],
 "metadata": {
  "kernelspec": {
   "display_name": "Python 3",
   "language": "python",
   "name": "python3"
  },
  "language_info": {
   "codemirror_mode": {
    "name": "ipython",
    "version": 3
   },
   "file_extension": ".py",
   "mimetype": "text/x-python",
   "name": "python",
   "nbconvert_exporter": "python",
   "pygments_lexer": "ipython3",
   "version": "3.6.4"
  }
 },
 "nbformat": 4,
 "nbformat_minor": 2
}
